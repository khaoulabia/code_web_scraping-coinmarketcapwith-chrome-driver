{
 "cells": [
  {
   "cell_type": "code",
   "execution_count": 127,
   "id": "6738ddd2",
   "metadata": {},
   "outputs": [],
   "source": [
    "import requests,openpyxl\n",
    "import pandas as pd\n",
    "from bs4 import BeautifulSoup\n",
    "import selenium\n",
    "from selenium import webdriver\n",
    "import pandas as pd\n",
    "from csv import writer\n",
    "import time"
   ]
  },
  {
   "cell_type": "code",
   "execution_count": 128,
   "id": "b081ce2a",
   "metadata": {},
   "outputs": [],
   "source": [
    "path=\"C:\\\\Users\\\\bouzg\\\\Desktop\\\\chromedriver.exe\""
   ]
  },
  {
   "cell_type": "code",
   "execution_count": 129,
   "id": "7c65e379",
   "metadata": {},
   "outputs": [],
   "source": [
    "driver=webdriver.Chrome(path)"
   ]
  },
  {
   "cell_type": "code",
   "execution_count": 130,
   "id": "d63180b8",
   "metadata": {},
   "outputs": [],
   "source": [
    "driver.get(\"https://coinmarketcap.com/\")"
   ]
  },
  {
   "cell_type": "code",
   "execution_count": 131,
   "id": "b0519dde",
   "metadata": {},
   "outputs": [],
   "source": [
    "from selenium.webdriver.common.keys import Keys\n",
    "html = driver.find_element_by_tag_name('html')\n",
    "html.send_keys(Keys.PAGE_DOWN)"
   ]
  },
  {
   "cell_type": "code",
   "execution_count": 149,
   "id": "9dd52511",
   "metadata": {},
   "outputs": [],
   "source": [
    "soup = BeautifulSoup(driver.page_source, \"html\")"
   ]
  },
  {
   "cell_type": "code",
   "execution_count": 150,
   "id": "faa24704",
   "metadata": {},
   "outputs": [],
   "source": [
    "time.sleep(3)"
   ]
  },
  {
   "cell_type": "code",
   "execution_count": 151,
   "id": "a8789450",
   "metadata": {},
   "outputs": [],
   "source": [
    "tables =soup.find('tbody').find_all('tr')"
   ]
  },
  {
   "cell_type": "code",
   "execution_count": 260,
   "id": "af8e4fa7",
   "metadata": {},
   "outputs": [],
   "source": [
    "with open('tp1.csv','w',encoding='utf8',newline='') as f:\n",
    "    thewriter=writer(f)\n",
    "    header=['Name','Price','1h%','24h%','7d%','Market Cap','volume(24h)','Circulating Supply']\n",
    "    thewriter.writerow(header)\n",
    "    for table in tables :\n",
    "        if table.find('p',class_=\"sc-e225a64a-0 ePTNty\") is not None:\n",
    "            name=table.find('p',class_=\"sc-e225a64a-0 ePTNty\").text\n",
    "            if table.find('div',class_=\"sc-7510a17-0 hEduBL\") is not None:\n",
    "                price=table.find('div',class_=\"sc-7510a17-0 hEduBL\").text\n",
    "                prs=table.find_all('span',class_='sc-97d6d2ca-0 cYiHal')\n",
    "                for pr in prs:\n",
    "                    pr1=prs[0].text\n",
    "                    pr2=prs[-1].text\n",
    "                if table.find('span',class_=\"sc-97d6d2ca-0 bQjSqS\") is not None:\n",
    "                    pr3=table.find('span',class_=\"sc-97d6d2ca-0 bQjSqS\").text\n",
    "                if table.find('span',class_=\"sc-65d3c89-0 koTgbF\") is not None:\n",
    "                    marketcap=table.find('span',class_=\"sc-65d3c89-0 koTgbF\").text\n",
    "                if table.find('div',class_=\"sc-aef7b723-0 sc-ba1a4d26-0 QisKn\") is not None:\n",
    "                    volume=table.find('div',class_=\"sc-aef7b723-0 sc-ba1a4d26-0 QisKn\").text\n",
    "                if table.find('p',class_=\"sc-e225a64a-0 izpQLd\") is not None:\n",
    "                    circulatingsupply=table.find('p',class_=\"sc-e225a64a-0 izpQLd\").text\n",
    "        thewriter.writerow([name,price,pr1,pr2,pr3,marketcap,volume,circulatingsupply])"
   ]
  },
  {
   "cell_type": "code",
   "execution_count": null,
   "id": "a986a6eb",
   "metadata": {},
   "outputs": [],
   "source": []
  }
 ],
 "metadata": {
  "kernelspec": {
   "display_name": "Python 3 (ipykernel)",
   "language": "python",
   "name": "python3"
  },
  "language_info": {
   "codemirror_mode": {
    "name": "ipython",
    "version": 3
   },
   "file_extension": ".py",
   "mimetype": "text/x-python",
   "name": "python",
   "nbconvert_exporter": "python",
   "pygments_lexer": "ipython3",
   "version": "3.11.5"
  }
 },
 "nbformat": 4,
 "nbformat_minor": 5
}
